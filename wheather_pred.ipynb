{
  "nbformat": 4,
  "nbformat_minor": 0,
  "metadata": {
    "colab": {
      "name": "wheather_pred.ipynb",
      "provenance": [],
      "collapsed_sections": []
    },
    "kernelspec": {
      "name": "python3",
      "display_name": "Python 3"
    },
    "language_info": {
      "name": "python"
    }
  },
  "cells": [
    {
      "cell_type": "code",
      "execution_count": null,
      "metadata": {
        "id": "pp5TKHLBN0Ii"
      },
      "outputs": [],
      "source": [
        "import pandas as pd\n",
        "from sklearn.preprocessing import LabelEncoder\n",
        "from sklearn.naive_bayes import GaussianNB\n",
        "import numpy as np"
      ]
    },
    {
      "cell_type": "code",
      "source": [
        "df=pd.read_csv(\"tennis.csv\")\n",
        "#df"
      ],
      "metadata": {
        "id": "J-vGndBdOacO"
      },
      "execution_count": null,
      "outputs": []
    },
    {
      "cell_type": "code",
      "source": [
        "numerics=LabelEncoder() ## it labels the features with respective num values from 0 to n-1 features\n",
        "## dropping the target variable and make it as new frame\n",
        "inputs=df.drop('play',axis='columns')\n",
        "target=df['play']\n",
        "#target\n",
        "inputs"
      ],
      "metadata": {
        "id": "bFXape7vR9kj"
      },
      "execution_count": null,
      "outputs": []
    },
    {
      "cell_type": "code",
      "source": [
        "inputs['outlook_n']=numerics.fit_transform(inputs['outlook'])\n",
        "inputs['temp_n']=numerics.fit_transform(inputs['temp'])\n",
        "inputs['Hum_n']=numerics.fit_transform(inputs['humidity'])\n",
        "inputs['Windy_n']=numerics.fit_transform(inputs['windy'])\n",
        "inputs"
      ],
      "metadata": {
        "id": "J0kyuk48R9iF"
      },
      "execution_count": null,
      "outputs": []
    },
    {
      "cell_type": "code",
      "source": [
        "## dropping string type labels\n",
        "inputs_n=inputs.drop(['outlook','temp','humidity','windy'],axis='columns')\n",
        "inputs_n"
      ],
      "metadata": {
        "id": "ftiEDicjZBM1"
      },
      "execution_count": null,
      "outputs": []
    },
    {
      "cell_type": "code",
      "source": [
        "target\n"
      ],
      "metadata": {
        "id": "GZeg_keDQ2UF"
      },
      "execution_count": null,
      "outputs": []
    },
    {
      "cell_type": "code",
      "source": [
        "classifier=GaussianNB()\n",
        "classifier.fit(inputs_n,target)"
      ],
      "metadata": {
        "id": "9grAA-U_ZqGA"
      },
      "execution_count": null,
      "outputs": []
    },
    {
      "cell_type": "code",
      "source": [
        "classifier.score(inputs_n,target)"
      ],
      "metadata": {
        "id": "4MLUE0DvaIYC"
      },
      "execution_count": null,
      "outputs": []
    },
    {
      "cell_type": "code",
      "source": [
        "test=(1,2,0,0)\n",
        "arr=np.asarray(test)\n",
        "reshaped=arr.reshape(1,-1) #single row and we dont know the columns to make a 2d array with input exactly so numpy will do it#\n",
        "\n",
        "#reshaped\n",
        "result=classifier.predict(reshaped)\n",
        "if(result[0]==\"yes\"):\n",
        "  print(\"You can play the match\")\n",
        "else:\n",
        "  print(\"You can't play the match\")\n"
      ],
      "metadata": {
        "id": "gGTdBF5TaXJ0"
      },
      "execution_count": null,
      "outputs": []
    }
  ]
}